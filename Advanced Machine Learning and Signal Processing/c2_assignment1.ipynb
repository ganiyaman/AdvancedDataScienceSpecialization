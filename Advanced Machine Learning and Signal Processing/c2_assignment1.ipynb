{
  "nbformat": 4,
  "nbformat_minor": 0,
  "metadata": {
    "colab": {
      "name": "c2-assignment1.ipynb",
      "version": "0.3.2",
      "provenance": []
    },
    "kernelspec": {
      "display_name": "Python 3.5 with Spark 2.1",
      "name": "python3-spark21",
      "language": "python"
    }
  },
  "cells": [
    {
      "metadata": {
        "id": "3SkBkgBJGysV",
        "colab_type": "text"
      },
      "cell_type": "markdown",
      "source": [
        "This is the first assgiment for the Coursera course \"Advanced Machine Learning and Signal Processing\"\n",
        "\n",
        "Just execute all cells one after the other and you are done - just note that in the last one you have to update your email address (the one you've used for coursera) and obtain a submittion token, you get this from the programming assingment directly on coursera."
      ]
    },
    {
      "metadata": {
        "id": "s4gRfZaXGysZ",
        "colab_type": "code",
        "colab": {}
      },
      "cell_type": "code",
      "source": [
        "credentials_1 = {'password':\"\"\"****\"\"\",\n",
        "                 'custom_url':'*****',\n",
        "                 'username':'*******' }\n"
      ],
      "execution_count": 0,
      "outputs": []
    },
    {
      "metadata": {
        "id": "mttn6jnkGyse",
        "colab_type": "code",
        "colab": {}
      },
      "cell_type": "code",
      "source": [
        "spark = SparkSession\\\n",
        "    .builder\\\n",
        "    .appName(\"Cloudant Spark SQL Example in Python using temp tables\")\\\n",
        "    .config(\"cloudant.host\",credentials_1['custom_url'].split('@')[1])\\\n",
        "    .config(\"cloudant.username\", credentials_1['username'])\\\n",
        "    .config(\"cloudant.password\",credentials_1['password'])\\\n",
        "    .getOrCreate()"
      ],
      "execution_count": 0,
      "outputs": []
    },
    {
      "metadata": {
        "id": "JiH_Hv90Gysj",
        "colab_type": "code",
        "colab": {},
        "outputId": "220396b9-951f-4811-89f6-5f61b1e13a1e"
      },
      "cell_type": "code",
      "source": [
        "df=spark.read.load('shake', \"org.apache.bahir.cloudant\")\n",
        "\n",
        "df.createOrReplaceTempView(\"df\")\n",
        "spark.sql(\"SELECT * from df\").show()\n"
      ],
      "execution_count": 0,
      "outputs": [
        {
          "output_type": "stream",
          "text": [
            "+-----+---------+-----+-----+-----+--------------------+--------------------+\n",
            "|CLASS| SENSORID|    X|    Y|    Z|                 _id|                _rev|\n",
            "+-----+---------+-----+-----+-----+--------------------+--------------------+\n",
            "|    2| qqqqqqqq| 0.12| 0.12| 0.12|03709aae25e2f0135...|1-043c3e38282fc65...|\n",
            "|    2|aUniqueID| 0.03| 0.03| 0.03|03709aae25e2f0135...|1-3ef6c52e6c5e97e...|\n",
            "|    2| qqqqqqqq|-3.84|-3.84|-3.84|03709aae25e2f0135...|1-44116cadff45fe8...|\n",
            "|    2| 12345678| -0.1| -0.1| -0.1|03709aae25e2f0135...|1-78108c943fe3519...|\n",
            "|    2| 12345678|-0.15|-0.15|-0.15|03709aae25e2f0135...|1-5b97826c8587d6c...|\n",
            "|    2| 12345678| 0.47| 0.47| 0.47|03709aae25e2f0135...|1-b36022a29314921...|\n",
            "|    2| 12345678|-0.06|-0.06|-0.06|03709aae25e2f0135...|1-25d81ac4304a322...|\n",
            "|    2| 12345678|-0.09|-0.09|-0.09|03709aae25e2f0135...|1-75da92294f943db...|\n",
            "|    2| 12345678| 0.21| 0.21| 0.21|03709aae25e2f0135...|1-a296eea013fa8dd...|\n",
            "|    2| 12345678|-0.08|-0.08|-0.08|03709aae25e2f0135...|1-0bf66fc57ec0ff1...|\n",
            "|    2| 12345678| 0.44| 0.44| 0.44|03709aae25e2f0135...|1-9e8d0af436e90f4...|\n",
            "|    2|    gholi| 0.76| 0.76| 0.76|03709aae25e2f0135...|1-a830dcd3217f790...|\n",
            "|    2|    gholi| 1.62| 1.62| 1.62|03709aae25e2f0135...|1-0e0884c2b030b53...|\n",
            "|    2|    gholi| 5.81| 5.81| 5.81|03709aae25e2f0135...|1-3e8cf1975d26bff...|\n",
            "|    2| bcbcbcbc| 0.58| 0.58| 0.58|03709aae25e2f0135...|1-c9543664b3c7ddc...|\n",
            "|    2| bcbcbcbc|-8.24|-8.24|-8.24|03709aae25e2f0135...|1-1efe0311dbcf896...|\n",
            "|    2| bcbcbcbc|-0.45|-0.45|-0.45|03709aae25e2f0135...|1-efe821ca3f64b4b...|\n",
            "|    2| bcbcbcbc| 1.03| 1.03| 1.03|03709aae25e2f0135...|1-7a16e6cbf6914b7...|\n",
            "|    2|aUniqueID|-0.05|-0.05|-0.05|03709aae25e2f0135...|1-b0b8f253c58a37b...|\n",
            "|    2| qqqqqqqq|-0.44|-0.44|-0.44|03709aae25e2f0135...|1-1586f5c0e1c64b9...|\n",
            "+-----+---------+-----+-----+-----+--------------------+--------------------+\n",
            "only showing top 20 rows\n",
            "\n"
          ],
          "name": "stdout"
        }
      ]
    },
    {
      "metadata": {
        "id": "KelZQymbGysr",
        "colab_type": "code",
        "colab": {}
      },
      "cell_type": "code",
      "source": [
        "!rm -Rf a2_m1.parquet"
      ],
      "execution_count": 0,
      "outputs": []
    },
    {
      "metadata": {
        "id": "NfjE_93NGyst",
        "colab_type": "code",
        "colab": {}
      },
      "cell_type": "code",
      "source": [
        "df = df.repartition(1)\n",
        "df.write.json('a2_m1.json')"
      ],
      "execution_count": 0,
      "outputs": []
    },
    {
      "metadata": {
        "id": "9UP3u6hDGysw",
        "colab_type": "code",
        "colab": {},
        "outputId": "762a5f14-1e30-4be4-9324-147f01ac065e"
      },
      "cell_type": "code",
      "source": [
        "!rm -f rklib.py\n",
        "!wget https://raw.githubusercontent.com/romeokienzler/developerWorks/master/coursera/ai/rklib.py"
      ],
      "execution_count": 0,
      "outputs": [
        {
          "output_type": "stream",
          "text": [
            "--2019-02-10 16:55:00--  https://raw.githubusercontent.com/romeokienzler/developerWorks/master/coursera/ai/rklib.py\n",
            "Resolving raw.githubusercontent.com (raw.githubusercontent.com)... 151.101.48.133\n",
            "Connecting to raw.githubusercontent.com (raw.githubusercontent.com)|151.101.48.133|:443... connected.\n",
            "HTTP request sent, awaiting response... 200 OK\n",
            "Length: 2289 (2.2K) [text/plain]\n",
            "Saving to: ‘rklib.py’\n",
            "\n",
            "100%[======================================>] 2,289       --.-K/s   in 0s      \n",
            "\n",
            "2019-02-10 16:55:00 (11.7 MB/s) - ‘rklib.py’ saved [2289/2289]\n",
            "\n"
          ],
          "name": "stdout"
        }
      ]
    },
    {
      "metadata": {
        "id": "nJbtk30fGysz",
        "colab_type": "code",
        "colab": {},
        "outputId": "ac299003-f86a-4a15-97e3-e3f4f9aaa756"
      },
      "cell_type": "code",
      "source": [
        "!zip -r a2_m1.json.zip a2_m1.json"
      ],
      "execution_count": 0,
      "outputs": [
        {
          "output_type": "stream",
          "text": [
            "  adding: a2_m1.json/ (stored 0%)\n",
            "  adding: a2_m1.json/_SUCCESS (stored 0%)\n",
            "  adding: a2_m1.json/.part-00000-a10676fa-e77d-4c46-b7c3-6a83cba996f7.json.crc (stored 0%)\n",
            "  adding: a2_m1.json/._SUCCESS.crc (stored 0%)\n",
            "  adding: a2_m1.json/part-00000-a10676fa-e77d-4c46-b7c3-6a83cba996f7.json (deflated 81%)\n"
          ],
          "name": "stdout"
        }
      ]
    },
    {
      "metadata": {
        "id": "cKRKEiiXGys7",
        "colab_type": "code",
        "colab": {}
      },
      "cell_type": "code",
      "source": [
        "!base64 a2_m1.json.zip > a2_m1.json.zip.base64"
      ],
      "execution_count": 0,
      "outputs": []
    },
    {
      "metadata": {
        "id": "vGRdmD8QGytA",
        "colab_type": "code",
        "colab": {},
        "outputId": "2a7aea3c-c85b-4619-c5c4-6c47b6834ee7"
      },
      "cell_type": "code",
      "source": [
        "from rklib import submit\n",
        "key = \"*****\"\n",
        "part = \"*****\"\n",
        "email = \"annmargaret.tutu@icloud.com\"\n",
        "secret = \"*******\"\n",
        "\n",
        "with open('a2_m1.json.zip.base64', 'r') as myfile:\n",
        "    data=myfile.read()\n",
        "submit(email, secret, key, part, [part], data)"
      ],
      "execution_count": 0,
      "outputs": [
        {
          "output_type": "stream",
          "text": [
            "Submission successful, please check on the coursera grader page for the status\n",
            "-------------------------\n",
            "{\"elements\":[{\"itemId\":\"O8C69\",\"id\":\"f_F-qCtuEei_fRLwaVDk3g~O8C69~8QSd_S2GEemeThLnukbygA\",\"courseId\":\"f_F-qCtuEei_fRLwaVDk3g\"}],\"paging\":{},\"linked\":{}}\n",
            "-------------------------\n"
          ],
          "name": "stdout"
        }
      ]
    },
    {
      "metadata": {
        "id": "4sc1kO8HGytD",
        "colab_type": "code",
        "colab": {}
      },
      "cell_type": "code",
      "source": [
        ""
      ],
      "execution_count": 0,
      "outputs": []
    }
  ]
}