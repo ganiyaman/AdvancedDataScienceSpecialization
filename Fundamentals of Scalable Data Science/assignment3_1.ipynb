{
  "nbformat": 4,
  "nbformat_minor": 0,
  "metadata": {
    "colab": {
      "name": "assignment3.1.ipynb",
      "version": "0.3.2",
      "provenance": []
    },
    "kernelspec": {
      "display_name": "Python 3.5 with Spark 2.1",
      "name": "python3-spark21",
      "language": "python"
    }
  },
  "cells": [
    {
      "metadata": {
        "id": "QBOx-J_y-DyS",
        "colab_type": "text"
      },
      "cell_type": "markdown",
      "source": [
        "# Assignment 3\n",
        "\n",
        "Welcome to Assignment 3. This will be even more fun. Now we will calculate statistical measures on the test data you have created.\n",
        "\n",
        "YOU ARE NOT ALLOWED TO USE ANY OTHER 3RD PARTY LIBRARIES LIKE PANDAS. PLEASE ONLY MODIFY CONTENT INSIDE THE FUNCTION SKELETONS\n",
        "Please read why: https://www.coursera.org/learn/exploring-visualizing-iot-data/discussions/weeks/3/threads/skjCbNgeEeapeQ5W6suLkA\n",
        ". Just make sure you hit the play button on each cell from top to down. There are seven functions you have to implement. Please also make sure than on each change on a function you hit the play button again on the corresponding cell to make it available to the rest of this notebook.\n",
        "Please also make sure to only implement the function bodies and DON'T add any additional code outside functions since this might confuse the autograder.\n",
        "\n",
        "So the function below is used to make it easy for you to create a data frame from a cloudant data frame using the so called \"DataSource\" which is some sort of a plugin which allows ApacheSpark to use different data sources.\n"
      ]
    },
    {
      "metadata": {
        "id": "VDMF4mEO-DyV",
        "colab_type": "text"
      },
      "cell_type": "markdown",
      "source": [
        "All functions can be implemented using DataFrames, ApacheSparkSQL or RDDs. We are only interested in the result. You are given the reference to the data frame in the \"df\" parameter and in case you want to use SQL just use the \"spark\" parameter which is a reference to the global SparkSession object. Finally if you want to use RDDs just use \"df.rdd\" for obtaining a reference to the underlying RDD object. \n",
        "\n",
        "Let's start with the first function. Please calculate the minimal temperature for the test data set you have created. We've provided a little skeleton for you in case you want to use SQL. You can use this skeleton for all subsequent functions. Everything can be implemented using SQL only if you like."
      ]
    },
    {
      "metadata": {
        "id": "QjqtTFQc-DyZ",
        "colab_type": "code",
        "colab": {}
      },
      "cell_type": "code",
      "source": [
        "def minTemperature(df,spark):\n",
        "    return spark.sql(\"SELECT min(temperature) as mintemp from washing\").first().mintemp"
      ],
      "execution_count": 0,
      "outputs": []
    },
    {
      "metadata": {
        "id": "v8dX1Hn1-Dyl",
        "colab_type": "text"
      },
      "cell_type": "markdown",
      "source": [
        "Please now do the same for the mean of the temperature"
      ]
    },
    {
      "metadata": {
        "id": "dc8O3f7b-Dyr",
        "colab_type": "code",
        "colab": {}
      },
      "cell_type": "code",
      "source": [
        "def meanTemperature(df,spark):\n",
        "    return spark.sql(\"SELECT avg(temperature) as meantemp from washing\").first().meantemp"
      ],
      "execution_count": 0,
      "outputs": []
    },
    {
      "metadata": {
        "id": "Fnb1o7QD-Dyw",
        "colab_type": "text"
      },
      "cell_type": "markdown",
      "source": [
        "Please now do the same for the maximum of the temperature"
      ]
    },
    {
      "metadata": {
        "id": "MSg1vD46-DzF",
        "colab_type": "code",
        "colab": {}
      },
      "cell_type": "code",
      "source": [
        "def maxTemperature(df,spark):\n",
        "    return spark.sql(\"SELECT max(temperature) as maxtemp from washing\").first().maxtemp"
      ],
      "execution_count": 0,
      "outputs": []
    },
    {
      "metadata": {
        "id": "W2DWnDZl-DzL",
        "colab_type": "text"
      },
      "cell_type": "markdown",
      "source": [
        "Please now do the same for the standard deviation of the temperature"
      ]
    },
    {
      "metadata": {
        "id": "yhCGvPJj-DzN",
        "colab_type": "code",
        "colab": {}
      },
      "cell_type": "code",
      "source": [
        "def sdTemperature(df,spark):\n",
        "    return spark.sql(\"SELECT stddev(temperature) as stddevtemp from washing\").first().stddevtemp"
      ],
      "execution_count": 0,
      "outputs": []
    },
    {
      "metadata": {
        "id": "KqERku9t-Dzb",
        "colab_type": "text"
      },
      "cell_type": "markdown",
      "source": [
        "Please now do the same for the skew of the temperature. Since the SQL statement for this is a bit more complicated we've provided a skeleton for you. You have to insert custom code at four position in order to make the function work. Alternatively you can also remove everything and implement if on your own. Note that we are making use of two previously defined functions, so please make sure they are correct. Also note that we are making use of python's string formatting capabilitis where the results of the two function calls to \"meanTemperature\" and \"sdTemperature\" are inserted at the \"%s\" symbols in the SQL string."
      ]
    },
    {
      "metadata": {
        "id": "Nhkaw-uO-Dzd",
        "colab_type": "code",
        "colab": {}
      },
      "cell_type": "code",
      "source": [
        "def skewTemperature(df,spark): \n",
        "    return spark.sql(\"\"\"\n",
        "SELECT \n",
        "    (\n",
        "        1/count(temperature)\n",
        "    ) *\n",
        "    SUM (\n",
        "        POWER(temperature-%s,3)/POWER(%s,3)\n",
        "    )\n",
        "\n",
        "as skewTemp from washing\n",
        "                    \"\"\" %(meanTemperature(df,spark),sdTemperature(df,spark))).first().skewTemp"
      ],
      "execution_count": 0,
      "outputs": []
    },
    {
      "metadata": {
        "id": "MsdsayPY-Dzi",
        "colab_type": "text"
      },
      "cell_type": "markdown",
      "source": [
        "Kurtosis is the 4th statistical moment, so if you are smart you can make use of the code for skew which is the 3rd statistical moment. Actually only two things are different."
      ]
    },
    {
      "metadata": {
        "id": "_c4jhxr0-Dzk",
        "colab_type": "code",
        "colab": {}
      },
      "cell_type": "code",
      "source": [
        "def kurtosisTemperature(df,spark): \n",
        "    return spark.sql(\"\"\"\n",
        "SELECT \n",
        "    (\n",
        "        1/count(temperature)\n",
        "    ) *\n",
        "    SUM (\n",
        "        POWER(temperature-%s,4)/POWER(%s,4)\n",
        "    )\n",
        "\n",
        "as kurtTemp from washing\n",
        "                    \"\"\" %(meanTemperature(df,spark),sdTemperature(df,spark))).first().kurtTemp"
      ],
      "execution_count": 0,
      "outputs": []
    },
    {
      "metadata": {
        "id": "5uM9__85-Dzt",
        "colab_type": "text"
      },
      "cell_type": "markdown",
      "source": [
        "Just a hint. This can be solved easily using SQL as well, but as shown in the lecture also using RDDs."
      ]
    },
    {
      "metadata": {
        "id": "-lhKDYa7-Dz1",
        "colab_type": "code",
        "colab": {}
      },
      "cell_type": "code",
      "source": [
        "def correlationTemperatureHardness(df,spark):\n",
        "    return df.stat.corr(\"temperature\", \"hardness\")\n"
      ],
      "execution_count": 0,
      "outputs": []
    },
    {
      "metadata": {
        "id": "I6fE24kd-D0C",
        "colab_type": "text"
      },
      "cell_type": "markdown",
      "source": [
        "### PLEASE DON'T REMOVE THIS BLOCK - THE FOLLOWING CODE IS NOT GRADED\n",
        "#axx\n",
        "### PLEASE DON'T REMOVE THIS BLOCK - THE FOLLOWING CODE IS NOT GRADED"
      ]
    },
    {
      "metadata": {
        "id": "PfIMFIoa-D0F",
        "colab_type": "text"
      },
      "cell_type": "markdown",
      "source": [
        "Now it is time to connect to the object store and read a PARQUET file and create a dataframe out of it. We've created that data for you already. Using SparkSQL you can handle it like a database."
      ]
    },
    {
      "metadata": {
        "id": "nzbUdXdA-D0I",
        "colab_type": "code",
        "colab": {},
        "outputId": "c228d318-dece-43be-f1fa-f4486e20e939"
      },
      "cell_type": "code",
      "source": [
        "import ibmos2spark\n",
        "\n",
        "# @hidden_cell\n",
        "credentials = {\n",
        "    'endpoint': '*****',\n",
        "    'api_key': '*****',\n",
        "    'service_id': '****',\n",
        "    'iam_service_endpoint': '******'}\n",
        "\n",
        "configuration_name = '*******'\n",
        "cos = ibmos2spark.CloudObjectStorage(sc, credentials, configuration_name, 'bluemix_cos')\n",
        "\n",
        "from pyspark.sql import SparkSession\n",
        "spark = SparkSession.builder.getOrCreate()\n",
        "# Since JSON data can be semi-structured and contain additional metadata, it is possible that you might face issues with the DataFrame layout.\n",
        "# Please read the documentation of 'SparkSession.read()' to learn more about the possibilities to adjust the data loading.\n",
        "# PySpark documentation: http://spark.apache.org/docs/2.0.2/api/python/pyspark.sql.html#pyspark.sql.DataFrameReader.json\n",
        "df = spark.read.parquet(cos.url('washing.parquet', 'courseradsnew-donotdelete-pr-1hffrnl2pprwut'))\n",
        "df.rdd.toDF().registerTempTable(\"washing\")\n",
        "df.show()"
      ],
      "execution_count": 0,
      "outputs": [
        {
          "output_type": "stream",
          "text": [
            "+--------------------+--------------------+-----+--------+----------+---------+--------+-----+-----------+-------------+-------+\n",
            "|                 _id|                _rev|count|flowrate|fluidlevel|frequency|hardness|speed|temperature|           ts|voltage|\n",
            "+--------------------+--------------------+-----+--------+----------+---------+--------+-----+-----------+-------------+-------+\n",
            "|0d86485d0f88d1f9d...|1-57940679fb8a713...|    4|      11|acceptable|     null|      77| null|        100|1547808723923|   null|\n",
            "|0d86485d0f88d1f9d...|1-15ff3a0b304d789...|    2|    null|      null|     null|    null| 1046|       null|1547808729917|   null|\n",
            "|0d86485d0f88d1f9d...|1-97c2742b68c7b07...|    4|    null|      null|       71|    null| null|       null|1547808731918|    236|\n",
            "|0d86485d0f88d1f9d...|1-eefb903dbe45746...|   19|      11|acceptable|     null|      75| null|         86|1547808738999|   null|\n",
            "|0d86485d0f88d1f9d...|1-5f68b4c72813c25...|    7|    null|      null|       75|    null| null|       null|1547808740927|    235|\n",
            "|0d86485d0f88d1f9d...|1-cd4b6c57ddbe77e...|    5|    null|      null|     null|    null| 1014|       null|1547808744923|   null|\n",
            "|0d86485d0f88d1f9d...|1-a35b25b5bf43aaf...|   32|      11|acceptable|     null|      73| null|         84|1547808752028|   null|\n",
            "|0d86485d0f88d1f9d...|1-b717f7289a8476d...|   48|      11|acceptable|     null|      79| null|         84|1547808768065|   null|\n",
            "|0d86485d0f88d1f9d...|1-c2f1f8fcf178b2f...|   18|    null|      null|       73|    null| null|       null|1547808773944|    228|\n",
            "|0d86485d0f88d1f9d...|1-15033dd9eebb4a8...|   59|      11|acceptable|     null|      72| null|         96|1547808779093|   null|\n",
            "|0d86485d0f88d1f9d...|1-753dae825f9a6c2...|   62|      11|acceptable|     null|      73| null|         88|1547808782113|   null|\n",
            "|0d86485d0f88d1f9d...|1-b168089f44f03f0...|   13|    null|      null|     null|    null| 1097|       null|1547808784940|   null|\n",
            "|0d86485d0f88d1f9d...|1-403b687c6be0dea...|   23|    null|      null|       80|    null| null|       null|1547808788955|    236|\n",
            "|0d86485d0f88d1f9d...|1-195551e0455a24b...|   72|      11|acceptable|     null|      77| null|         87|1547808792134|   null|\n",
            "|0d86485d0f88d1f9d...|1-060a39fc6c2ddee...|   26|    null|      null|       62|    null| null|       null|1547808797959|    233|\n",
            "|0d86485d0f88d1f9d...|1-2234514bffee465...|   27|    null|      null|       61|    null| null|       null|1547808800960|    226|\n",
            "|0d86485d0f88d1f9d...|1-4265898bb401db0...|   82|      11|acceptable|     null|      79| null|         96|1547808802154|   null|\n",
            "|0d86485d0f88d1f9d...|1-2fbf7ca9a0425a0...|   94|      11|acceptable|     null|      73| null|         90|1547808814186|   null|\n",
            "|0d86485d0f88d1f9d...|1-203c0ee6d7fbd21...|   97|      11|acceptable|     null|      77| null|         88|1547808817190|   null|\n",
            "|0d86485d0f88d1f9d...|1-47e1965db94fcab...|  104|      11|acceptable|     null|      75| null|         80|1547808824198|   null|\n",
            "+--------------------+--------------------+-----+--------+----------+---------+--------+-----+-----------+-------------+-------+\n",
            "only showing top 20 rows\n",
            "\n"
          ],
          "name": "stdout"
        }
      ]
    },
    {
      "metadata": {
        "id": "6fxoWSXk-D0V",
        "colab_type": "code",
        "colab": {},
        "outputId": "6b122847-19d2-4d64-9a87-dd102c21eff8"
      },
      "cell_type": "code",
      "source": [
        "minTemperature(df,spark)"
      ],
      "execution_count": 0,
      "outputs": [
        {
          "output_type": "execute_result",
          "data": {
            "text/plain": [
              "80"
            ]
          },
          "metadata": {
            "tags": []
          },
          "execution_count": 10
        }
      ]
    },
    {
      "metadata": {
        "id": "ixcWYhg8-D0f",
        "colab_type": "code",
        "colab": {},
        "outputId": "4f8ded49-8e67-44be-eca8-ec6f6987ea5c"
      },
      "cell_type": "code",
      "source": [
        "meanTemperature(df,spark)"
      ],
      "execution_count": 0,
      "outputs": [
        {
          "output_type": "execute_result",
          "data": {
            "text/plain": [
              "90.03800298062593"
            ]
          },
          "metadata": {
            "tags": []
          },
          "execution_count": 11
        }
      ]
    },
    {
      "metadata": {
        "id": "mAYjN1Bh-D0l",
        "colab_type": "code",
        "colab": {},
        "outputId": "97484521-6c95-4a06-a0e8-8dedee683226"
      },
      "cell_type": "code",
      "source": [
        "maxTemperature(df,spark)"
      ],
      "execution_count": 0,
      "outputs": [
        {
          "output_type": "execute_result",
          "data": {
            "text/plain": [
              "100"
            ]
          },
          "metadata": {
            "tags": []
          },
          "execution_count": 12
        }
      ]
    },
    {
      "metadata": {
        "id": "VHDQdp0l-D0r",
        "colab_type": "code",
        "colab": {},
        "outputId": "3b5bb5b7-b5f8-41d3-e77d-4f4a1aecc0eb"
      },
      "cell_type": "code",
      "source": [
        "sdTemperature(df,spark)"
      ],
      "execution_count": 0,
      "outputs": [
        {
          "output_type": "execute_result",
          "data": {
            "text/plain": [
              "6.1007610586219725"
            ]
          },
          "metadata": {
            "tags": []
          },
          "execution_count": 14
        }
      ]
    },
    {
      "metadata": {
        "id": "JFZR1qfT-D1W",
        "colab_type": "code",
        "colab": {},
        "outputId": "fe1b086c-a55a-4db9-87d1-3dcc91862bd4"
      },
      "cell_type": "code",
      "source": [
        "skewTemperature(df,spark)"
      ],
      "execution_count": 0,
      "outputs": [
        {
          "output_type": "execute_result",
          "data": {
            "text/plain": [
              "0.010398374583336334"
            ]
          },
          "metadata": {
            "tags": []
          },
          "execution_count": 15
        }
      ]
    },
    {
      "metadata": {
        "scrolled": true,
        "id": "mMsgr-pS-D16",
        "colab_type": "code",
        "colab": {},
        "outputId": "203ddbe7-6dbe-41ad-cb26-c59082d8047f"
      },
      "cell_type": "code",
      "source": [
        "kurtosisTemperature(df,spark)"
      ],
      "execution_count": 0,
      "outputs": [
        {
          "output_type": "execute_result",
          "data": {
            "text/plain": [
              "1.773427150876985"
            ]
          },
          "metadata": {
            "tags": []
          },
          "execution_count": 16
        }
      ]
    },
    {
      "metadata": {
        "id": "GdTJsjIR-D1_",
        "colab_type": "code",
        "colab": {},
        "outputId": "3a440c02-172c-47d1-f84e-ed78b867a9f8"
      },
      "cell_type": "code",
      "source": [
        "correlationTemperatureHardness(df,spark)"
      ],
      "execution_count": 0,
      "outputs": [
        {
          "output_type": "execute_result",
          "data": {
            "text/plain": [
              "0.9084547016553448"
            ]
          },
          "metadata": {
            "tags": []
          },
          "execution_count": 17
        }
      ]
    },
    {
      "metadata": {
        "id": "EjMWRAwG-D2E",
        "colab_type": "text"
      },
      "cell_type": "markdown",
      "source": [
        "Congratulations, you are done, please download this notebook as python file using the export function and submit is to the gader using the filename \"assignment3.1.py\""
      ]
    }
  ]
}