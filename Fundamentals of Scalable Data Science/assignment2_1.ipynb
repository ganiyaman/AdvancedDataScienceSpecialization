{
  "nbformat": 4,
  "nbformat_minor": 0,
  "metadata": {
    "colab": {
      "name": "assignment2.1.ipynb",
      "version": "0.3.2",
      "provenance": []
    },
    "kernelspec": {
      "display_name": "Python 3.5 with Spark 2.1",
      "name": "python3-spark21",
      "language": "python"
    }
  },
  "cells": [
    {
      "metadata": {
        "id": "295vGN4X8kKc",
        "colab_type": "text"
      },
      "cell_type": "markdown",
      "source": [
        "### Assignment 2\n",
        "Welcome to Assignment 2. This will be fun. It is the first time you actually access external data from ApacheSpark. \n",
        "\n",
        "Just make sure you hit the play button on each cell from top to down. There are three functions you have to implement. Please also make sure than on each change on a function you hit the play button again on the corresponding cell to make it available to the rest of this notebook.\n",
        "\n",
        "##### Please also make sure to only implement the function bodies and DON'T add any additional code outside functions since this might confuse the autograder."
      ]
    },
    {
      "metadata": {
        "id": "q-zOlLju8kKe",
        "colab_type": "text"
      },
      "cell_type": "markdown",
      "source": [
        "So the function below is used to make it easy for you to create a data frame from a Cloud Object Store data frame using the so called \"DataSource\" which is some sort of a plugin which allows ApacheSpark to use different data sources."
      ]
    },
    {
      "metadata": {
        "id": "7n5mE2Ca8kKg",
        "colab_type": "text"
      },
      "cell_type": "markdown",
      "source": [
        "This is the first function you have to implement. You are passed a dataframe object. We've also registered the dataframe in the ApacheSparkSQL catalog - so you can also issue queries against the \"washing\" table using \"spark.sql()\". Hint: To get an idea about the contents of the catalog you can use: spark.catalog.listTables().\n",
        "So now it's time to implement your first function. You are free to use the dataframe API, SQL or RDD API. In case you want to use the RDD API just obtain the encapsulated RDD using \"df.rdd\". You can test the function by running one of the three last cells of this notebook, but please make sure you run the cells from top to down since some are dependant of each other..."
      ]
    },
    {
      "metadata": {
        "id": "7c88Vtq78kKh",
        "colab_type": "code",
        "colab": {}
      },
      "cell_type": "code",
      "source": [
        "def count(df,spark):\n",
        "    #TODO Please enter your code here\n",
        "    x1 = df.count()\n",
        "    return x1"
      ],
      "execution_count": 0,
      "outputs": []
    },
    {
      "metadata": {
        "id": "Lndfv7Fp8kKl",
        "colab_type": "text"
      },
      "cell_type": "markdown",
      "source": [
        "No it's time to implement the second function. Please return an integer containing the number of fields. The most easy way to get this is using the dataframe API. Hint: You might find the dataframe API documentation useful: http://spark.apache.org/docs/latest/api/python/pyspark.sql.html#pyspark.sql.DataFrame"
      ]
    },
    {
      "metadata": {
        "id": "WiLxKuz68kKm",
        "colab_type": "code",
        "colab": {}
      },
      "cell_type": "code",
      "source": [
        "def getNumberOfFields(df,spark):\n",
        "    #TODO Please enter your code here\n",
        "    x2 = len(df.columns)\n",
        "    return x2"
      ],
      "execution_count": 0,
      "outputs": []
    },
    {
      "metadata": {
        "id": "-J13CHd_8kKp",
        "colab_type": "text"
      },
      "cell_type": "markdown",
      "source": [
        "Finally, please implement a function which returns a (python) list of string values of the field names in this data frame. Hint: Just copy&past doesn't work because the auto-grader will create a random data frame for testing, so please use the data frame API as well. Again, this is the link to the documentation: http://spark.apache.org/docs/latest/api/python/pyspark.sql.html#pyspark.sql.DataFrame"
      ]
    },
    {
      "metadata": {
        "id": "TjnSCF-C8kKp",
        "colab_type": "code",
        "colab": {}
      },
      "cell_type": "code",
      "source": [
        "def getFieldNames(df,spark):\n",
        "    #TODO Please enter your code here\n",
        "    x3 = df.columns\n",
        "    return x3"
      ],
      "execution_count": 0,
      "outputs": []
    },
    {
      "metadata": {
        "id": "WSZxkj3K8kKs",
        "colab_type": "text"
      },
      "cell_type": "markdown",
      "source": [
        "### PLEASE DON'T REMOVE THIS BLOCK - THE FOLLOWING CODE IS NOT GRADED\n",
        "#axx\n",
        "### PLEASE DON'T REMOVE THIS BLOCK - THE FOLLOWING CODE IS NOT GRADED\n",
        "So after this block you can basically do what you like since the auto-grader is not considering this part of the notebook"
      ]
    },
    {
      "metadata": {
        "id": "vMdaVMfv8kKt",
        "colab_type": "text"
      },
      "cell_type": "markdown",
      "source": [
        "Now it is time to connect to the object store and read a PARQUET file and create a datafrae out of it. Using SparkSQL you can handle it like a database. "
      ]
    },
    {
      "metadata": {
        "id": "5zw9Ibi18kKt",
        "colab_type": "code",
        "colab": {}
      },
      "cell_type": "code",
      "source": [
        "import ibmos2spark\n",
        "\n",
        "# @hidden_cell\n",
        "credentials = {\n",
        "    'endpoint': '*****',\n",
        "    'api_key': '*****',\n",
        "    'service_id': '*****',\n",
        "    'iam_service_endpoint': '****'}\n",
        "\n",
        "configuration_name = '*******'\n",
        "cos = ibmos2spark.CloudObjectStorage(sc, credentials, configuration_name, 'bluemix_cos')\n",
        "\n",
        "from pyspark.sql import SparkSession\n",
        "spark = SparkSession.builder.getOrCreate()\n",
        "# Since JSON data can be semi-structured and contain additional metadata, it is possible that you might face issues with the DataFrame layout.\n",
        "# Please read the documentation of 'SparkSession.read()' to learn more about the possibilities to adjust the data loading.\n",
        "# PySpark documentation: http://spark.apache.org/docs/2.0.2/api/python/pyspark.sql.html#pyspark.sql.DataFrameReader.json\n",
        "\n",
        "df = spark.read.parquet(cos.url('washing.parquet', 'courseradsnew-donotdelete-pr-1hffrnl2pprwut'))\n",
        "df.show()"
      ],
      "execution_count": 0,
      "outputs": []
    },
    {
      "metadata": {
        "id": "mROXH-qW8kKw",
        "colab_type": "text"
      },
      "cell_type": "markdown",
      "source": [
        "The following cell can be used to test your count function"
      ]
    },
    {
      "metadata": {
        "id": "olHuEVIV8kKw",
        "colab_type": "code",
        "colab": {}
      },
      "cell_type": "code",
      "source": [
        "count(df,spark)"
      ],
      "execution_count": 0,
      "outputs": []
    },
    {
      "metadata": {
        "id": "18QgUmjy8kK0",
        "colab_type": "text"
      },
      "cell_type": "markdown",
      "source": [
        "The following cell can be used to test your getNumberOfFields function"
      ]
    },
    {
      "metadata": {
        "id": "kOUwr7J58kK3",
        "colab_type": "code",
        "colab": {}
      },
      "cell_type": "code",
      "source": [
        "getNumberOfFields(df,spark)"
      ],
      "execution_count": 0,
      "outputs": []
    },
    {
      "metadata": {
        "id": "fldyA4qL8kK7",
        "colab_type": "text"
      },
      "cell_type": "markdown",
      "source": [
        "The following cell can be used to test your getFieldNames function"
      ]
    },
    {
      "metadata": {
        "id": "ESDpr9E08kK9",
        "colab_type": "code",
        "colab": {}
      },
      "cell_type": "code",
      "source": [
        "getFieldNames(df,spark)"
      ],
      "execution_count": 0,
      "outputs": []
    },
    {
      "metadata": {
        "id": "dUljHY2T8kK_",
        "colab_type": "text"
      },
      "cell_type": "markdown",
      "source": [
        "Congratulations, you are done. So please export this notebook as python script using the \"File->Download as->Python (.py)\" option in the menue of this notebook. This file should be named \"assignment2.1.py\" and uploaded to the autograder of week2."
      ]
    }
  ]
}